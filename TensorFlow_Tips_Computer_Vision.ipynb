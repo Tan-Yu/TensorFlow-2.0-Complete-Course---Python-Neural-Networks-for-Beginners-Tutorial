{
  "nbformat": 4,
  "nbformat_minor": 0,
  "metadata": {
    "colab": {
      "provenance": [],
      "authorship_tag": "ABX9TyPypMwESLzoEQHNgAPeT9Qf",
      "include_colab_link": true
    },
    "kernelspec": {
      "name": "python3",
      "display_name": "Python 3"
    },
    "language_info": {
      "name": "python"
    }
  },
  "cells": [
    {
      "cell_type": "markdown",
      "metadata": {
        "id": "view-in-github",
        "colab_type": "text"
      },
      "source": [
        "<a href=\"https://colab.research.google.com/github/Tan-Yu/TensorFlow-Sandbox/blob/main/TensorFlow_Tips_Computer_Vision.ipynb\" target=\"_parent\"><img src=\"https://colab.research.google.com/assets/colab-badge.svg\" alt=\"Open In Colab\"/></a>"
      ]
    },
    {
      "cell_type": "markdown",
      "source": [
        "## Batching for Train Datasets\n",
        "\n",
        "By doing this iteration, the code allows you to access the features and labels in a batch-wise manner, which can be useful for training and evaluating the model in mini-batches. It also converts the labels to numpy arrays and casts them to the \"uint8\" data type, which might be necessary for some specific use cases or compatibility with certain libraries or functions.\n",
        "\n",
        "\n",
        "\n",
        "\n",
        "\n",
        "\n",
        "\n",
        "\n"
      ],
      "metadata": {
        "id": "Er1YOdXNn3Bq"
      }
    },
    {
      "cell_type": "code",
      "source": [
        "for batch in resized_train_data.batch(32):\n",
        "    x_train = batch[0]\n",
        "    y_train = batch[1].numpy().astype(\"uint8\")\n",
        "for batch in resized_test_data.batch(32):\n",
        "    x_test = batch[0]\n",
        "    y_test = batch[1].numpy().astype(\"uint8\")"
      ],
      "metadata": {
        "id": "eVm0gH40n1wy"
      },
      "execution_count": null,
      "outputs": []
    },
    {
      "cell_type": "markdown",
      "source": [
        "#Model Creation\n",
        "\n",
        "1. Automatically normalize the data and resize it in the first step of the model\n",
        "  \n",
        "\n",
        ">   tf.keras.layers.experimental.preprocessing.Rescaling(1./255, input_shape=(224, 224, 3)),\n",
        "\n",
        "*   Con of this method: If you did this method, you can't plot the images since the test images are not resizes and normalized.\n",
        "\n",
        "\n"
      ],
      "metadata": {
        "id": "rl7W4PrhnCb0"
      }
    },
    {
      "cell_type": "code",
      "source": [
        "model = tf.keras.models.Sequential([\n",
        "    tf.keras.layers.experimental.preprocessing.Rescaling(1./255, input_shape=(224, 224, 3)),\n",
        "    # tf.keras.layers.Conv2D(32, (3, 3), activation='relu'),\n",
        "    # tf.keras.layers.MaxPooling2D((2, 2)),\n",
        "    # tf.keras.layers.Conv2D(64, (3, 3), activation='relu'),\n",
        "    # tf.keras.layers.MaxPooling2D((2, 2)),\n",
        "    # tf.keras.layers.Conv2D(128, (3, 3), activation='relu'),\n",
        "    # tf.keras.layers.MaxPooling2D((2, 2)),\n",
        "    # tf.keras.layers.Conv2D(128, (3, 3), activation='relu'),\n",
        "    # tf.keras.layers.MaxPooling2D((2, 2)),\n",
        "    # tf.keras.layers.Flatten(),\n",
        "    # tf.keras.layers.Dense(512, activation='relu'),\n",
        "    # tf.keras.layers.Dense(5, activation='softmax')\n",
        "])"
      ],
      "metadata": {
        "id": "Sby_OjMnnLEc"
      },
      "execution_count": null,
      "outputs": []
    },
    {
      "cell_type": "code",
      "source": [],
      "metadata": {
        "id": "DS9Yib7-okj1"
      },
      "execution_count": null,
      "outputs": []
    }
  ]
}