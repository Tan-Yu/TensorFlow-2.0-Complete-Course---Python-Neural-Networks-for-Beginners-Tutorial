{
  "nbformat": 4,
  "nbformat_minor": 0,
  "metadata": {
    "colab": {
      "provenance": [],
      "gpuType": "T4",
      "authorship_tag": "ABX9TyOiL4/Y3mBZX6GJk9qWIaUT",
      "include_colab_link": true
    },
    "kernelspec": {
      "name": "python3",
      "display_name": "Python 3"
    },
    "language_info": {
      "name": "python"
    },
    "accelerator": "GPU",
    "gpuClass": "standard"
  },
  "cells": [
    {
      "cell_type": "markdown",
      "metadata": {
        "id": "view-in-github",
        "colab_type": "text"
      },
      "source": [
        "<a href=\"https://colab.research.google.com/github/Tan-Yu/TensorFlow-Sandbox/blob/main/Project_1_Identifying_Vehicles_in_CIFAR10.ipynb\" target=\"_parent\"><img src=\"https://colab.research.google.com/assets/colab-badge.svg\" alt=\"Open In Colab\"/></a>"
      ]
    },
    {
      "cell_type": "code",
      "source": [
        "import tensorflow as tf\n",
        "import tensorflow_datasets as tfds\n"
      ],
      "metadata": {
        "id": "VfE1KTMx1L66"
      },
      "execution_count": null,
      "outputs": []
    },
    {
      "cell_type": "markdown",
      "source": [
        "# Using CIFAR10"
      ],
      "metadata": {
        "id": "fUWPtF8JS2h5"
      }
    },
    {
      "cell_type": "code",
      "source": [
        "datasets, info = tfds.load(\"cifar10\", with_info = True)\n",
        "train_dataset, test_dataset = datasets[\"train\"], datasets[\"test\"]\n",
        "assert isinstance(train_dataset, tf.data.Dataset)\n",
        "cifar10_builder = tfds.builder('cifar10')\n"
      ],
      "metadata": {
        "id": "aFlEpcZfxQUm"
      },
      "execution_count": null,
      "outputs": []
    },
    {
      "cell_type": "code",
      "source": [
        "info = cifar10_builder.info\n",
        "print(info)\n"
      ],
      "metadata": {
        "colab": {
          "base_uri": "https://localhost:8080/"
        },
        "id": "_6Lrz5cnxlqP",
        "outputId": "af2fb641-a208-4f1e-e582-e11e6731835c"
      },
      "execution_count": null,
      "outputs": [
        {
          "output_type": "stream",
          "name": "stdout",
          "text": [
            "tfds.core.DatasetInfo(\n",
            "    name='cifar10',\n",
            "    full_name='cifar10/3.0.2',\n",
            "    description=\"\"\"\n",
            "    The CIFAR-10 dataset consists of 60000 32x32 colour images in 10 classes, with 6000 images per class. There are 50000 training images and 10000 test images.\n",
            "    \"\"\",\n",
            "    homepage='https://www.cs.toronto.edu/~kriz/cifar.html',\n",
            "    data_path='/root/tensorflow_datasets/cifar10/3.0.2',\n",
            "    file_format=tfrecord,\n",
            "    download_size=162.17 MiB,\n",
            "    dataset_size=132.40 MiB,\n",
            "    features=FeaturesDict({\n",
            "        'id': Text(shape=(), dtype=string),\n",
            "        'image': Image(shape=(32, 32, 3), dtype=uint8),\n",
            "        'label': ClassLabel(shape=(), dtype=int64, num_classes=10),\n",
            "    }),\n",
            "    supervised_keys=('image', 'label'),\n",
            "    disable_shuffling=False,\n",
            "    splits={\n",
            "        'test': <SplitInfo num_examples=10000, num_shards=1>,\n",
            "        'train': <SplitInfo num_examples=50000, num_shards=1>,\n",
            "    },\n",
            "    citation=\"\"\"@TECHREPORT{Krizhevsky09learningmultiple,\n",
            "        author = {Alex Krizhevsky},\n",
            "        title = {Learning multiple layers of features from tiny images},\n",
            "        institution = {},\n",
            "        year = {2009}\n",
            "    }\"\"\",\n",
            ")\n"
          ]
        }
      ]
    },
    {
      "cell_type": "code",
      "source": [
        "for batch in train_dataset.batch(50000):\n",
        "    x_train = batch[\"image\"]\n",
        "    y_train = batch[\"label\"].numpy().astype(\"uint8\")\n",
        "for batch in test_dataset.batch(10000):\n",
        "    x_test = batch[\"image\"]\n",
        "    y_test = batch[\"label\"].numpy().astype(\"uint8\")\n"
      ],
      "metadata": {
        "id": "jCiLZBkNxwRq"
      },
      "execution_count": null,
      "outputs": []
    },
    {
      "cell_type": "code",
      "source": [
        "model = tf.keras.models.Sequential([\n",
        "tf.keras.layers.Conv2D(64, (3, 3), activation=\"relu\", padding=\"same\", input_shape=(32, 32, 3)),\n",
        "tf.keras.layers.Conv2D(32, (3, 3), activation=\"relu\"),\n",
        "tf.keras.layers.MaxPooling2D((2, 2)),\n",
        "tf.keras.layers.Conv2D(128, (3, 3), activation=\"relu\", padding=\"same\", input_shape=(32, 32, 3)),\n",
        "tf.keras.layers.Conv2D(32, (3, 3), activation=\"relu\"),\n",
        "tf.keras.layers.MaxPooling2D((2, 2)),\n",
        "tf.keras.layers.Flatten(),\n",
        "tf.keras.layers.Dense(128, activation=\"relu\"),\n",
        "tf.keras.layers.Dense(10, activation=\"softmax\")\n",
        "])\n",
        "model.compile(optimizer=\"adam\",\n",
        "loss=\"sparse_categorical_crossentropy\",\n",
        "metrics=[\"accuracy\"])\n"
      ],
      "metadata": {
        "id": "R1mtff4qx_hL"
      },
      "execution_count": null,
      "outputs": []
    },
    {
      "cell_type": "code",
      "source": [
        "model.summary()\n"
      ],
      "metadata": {
        "colab": {
          "base_uri": "https://localhost:8080/"
        },
        "id": "GymketO9yRek",
        "outputId": "ef8f2670-d082-46aa-9b6f-36478d472b58"
      },
      "execution_count": null,
      "outputs": [
        {
          "output_type": "stream",
          "name": "stdout",
          "text": [
            "Model: \"sequential_1\"\n",
            "_________________________________________________________________\n",
            " Layer (type)                Output Shape              Param #   \n",
            "=================================================================\n",
            " conv2d_6 (Conv2D)           (None, 32, 32, 32)        896       \n",
            "                                                                 \n",
            " conv2d_7 (Conv2D)           (None, 30, 30, 32)        9248      \n",
            "                                                                 \n",
            " max_pooling2d_2 (MaxPooling  (None, 15, 15, 32)       0         \n",
            " 2D)                                                             \n",
            "                                                                 \n",
            " flatten_1 (Flatten)         (None, 7200)              0         \n",
            "                                                                 \n",
            " dense_2 (Dense)             (None, 512)               3686912   \n",
            "                                                                 \n",
            " dense_3 (Dense)             (None, 10)                5130      \n",
            "                                                                 \n",
            "=================================================================\n",
            "Total params: 3,702,186\n",
            "Trainable params: 3,702,186\n",
            "Non-trainable params: 0\n",
            "_________________________________________________________________\n"
          ]
        }
      ]
    },
    {
      "cell_type": "code",
      "source": [
        "model.fit(x_train, y_train, epochs=25)\n"
      ],
      "metadata": {
        "colab": {
          "base_uri": "https://localhost:8080/"
        },
        "id": "J_glo8JWyVyu",
        "outputId": "346f9a11-8194-4af4-e074-d9c4c1154616"
      },
      "execution_count": null,
      "outputs": [
        {
          "output_type": "stream",
          "name": "stdout",
          "text": [
            "Epoch 1/25\n",
            "1563/1563 [==============================] - 11s 5ms/step - loss: 1.7705 - accuracy: 0.3770\n",
            "Epoch 2/25\n",
            "1563/1563 [==============================] - 8s 5ms/step - loss: 1.2635 - accuracy: 0.5518\n",
            "Epoch 3/25\n",
            "1563/1563 [==============================] - 8s 5ms/step - loss: 1.0593 - accuracy: 0.6279\n",
            "Epoch 4/25\n",
            "1563/1563 [==============================] - 8s 5ms/step - loss: 0.9259 - accuracy: 0.6789\n",
            "Epoch 5/25\n",
            "1563/1563 [==============================] - 8s 5ms/step - loss: 0.8296 - accuracy: 0.7133\n",
            "Epoch 6/25\n",
            "1563/1563 [==============================] - 8s 5ms/step - loss: 0.7468 - accuracy: 0.7404\n",
            "Epoch 7/25\n",
            "1563/1563 [==============================] - 8s 5ms/step - loss: 0.6738 - accuracy: 0.7660\n",
            "Epoch 8/25\n",
            "1563/1563 [==============================] - 8s 5ms/step - loss: 0.6123 - accuracy: 0.7848\n",
            "Epoch 9/25\n",
            "1563/1563 [==============================] - 8s 5ms/step - loss: 0.5557 - accuracy: 0.8035\n",
            "Epoch 10/25\n",
            "1563/1563 [==============================] - 8s 5ms/step - loss: 0.5009 - accuracy: 0.8239\n",
            "Epoch 11/25\n",
            "1563/1563 [==============================] - 8s 5ms/step - loss: 0.4643 - accuracy: 0.8377\n",
            "Epoch 12/25\n",
            "1563/1563 [==============================] - 8s 5ms/step - loss: 0.4238 - accuracy: 0.8516\n",
            "Epoch 13/25\n",
            "1563/1563 [==============================] - 8s 5ms/step - loss: 0.3982 - accuracy: 0.8618\n",
            "Epoch 14/25\n",
            "1563/1563 [==============================] - 8s 5ms/step - loss: 0.3682 - accuracy: 0.8731\n",
            "Epoch 15/25\n",
            "1563/1563 [==============================] - 8s 5ms/step - loss: 0.3478 - accuracy: 0.8779\n",
            "Epoch 16/25\n",
            "1563/1563 [==============================] - 8s 5ms/step - loss: 0.3393 - accuracy: 0.8828\n",
            "Epoch 17/25\n",
            "1563/1563 [==============================] - 9s 6ms/step - loss: 0.3183 - accuracy: 0.8906\n",
            "Epoch 18/25\n",
            "1563/1563 [==============================] - 9s 6ms/step - loss: 0.3065 - accuracy: 0.8954\n",
            "Epoch 19/25\n",
            "1563/1563 [==============================] - 8s 5ms/step - loss: 0.2965 - accuracy: 0.9008\n",
            "Epoch 20/25\n",
            "1563/1563 [==============================] - 8s 5ms/step - loss: 0.2866 - accuracy: 0.9027\n",
            "Epoch 21/25\n",
            "1563/1563 [==============================] - 8s 5ms/step - loss: 0.2777 - accuracy: 0.9080\n",
            "Epoch 22/25\n",
            "1563/1563 [==============================] - 8s 5ms/step - loss: 0.2668 - accuracy: 0.9121\n",
            "Epoch 23/25\n",
            "1563/1563 [==============================] - 8s 5ms/step - loss: 0.2690 - accuracy: 0.9119\n",
            "Epoch 24/25\n",
            "1563/1563 [==============================] - 8s 5ms/step - loss: 0.2646 - accuracy: 0.9127\n",
            "Epoch 25/25\n",
            "1563/1563 [==============================] - 8s 5ms/step - loss: 0.2507 - accuracy: 0.9173\n"
          ]
        },
        {
          "output_type": "execute_result",
          "data": {
            "text/plain": [
              "<keras.callbacks.History at 0x7f4e6edc5420>"
            ]
          },
          "metadata": {},
          "execution_count": 47
        }
      ]
    },
    {
      "cell_type": "code",
      "source": [
        "model.evaluate(x_test, y_test, verbose=1)\n"
      ],
      "metadata": {
        "colab": {
          "base_uri": "https://localhost:8080/"
        },
        "id": "6u2v2O7E2Byo",
        "outputId": "3ff0a7c5-1dbc-438b-b07e-17ac647bea31"
      },
      "execution_count": null,
      "outputs": [
        {
          "output_type": "stream",
          "name": "stdout",
          "text": [
            "313/313 [==============================] - 1s 3ms/step - loss: 1.7859 - accuracy: 0.6755\n"
          ]
        },
        {
          "output_type": "execute_result",
          "data": {
            "text/plain": [
              "[1.7858808040618896, 0.6754999756813049]"
            ]
          },
          "metadata": {},
          "execution_count": 49
        }
      ]
    },
    {
      "cell_type": "code",
      "source": [
        "import numpy as np\n",
        "\n",
        "# Get a random test image\n",
        "test_image = x_test[np.random.choice(x_test.shape[0], size=1, replace=False).item()]\n",
        "\n",
        "# Print the test image\n",
        "print(\"Test Image:\")\n",
        "plt.imshow(test_image)\n",
        "plt.show()\n",
        "\n",
        "# Make a prediction on the test image\n",
        "prediction = model.predict(np.expand_dims(test_image, axis=0))[0]\n",
        "\n",
        "# Get the category name with the highest probability\n",
        "category = info.features['label'].names[np.argmax(prediction)]\n",
        "\n",
        "# Print the prediction\n",
        "print(\"Prediction: {} with probability {:.2f}%\".format(category, prediction.max()*100))\n"
      ],
      "metadata": {
        "colab": {
          "base_uri": "https://localhost:8080/",
          "height": 482
        },
        "id": "x2T8jj7bKbuM",
        "outputId": "d2a54662-9206-431b-f568-bce39d223c98"
      },
      "execution_count": null,
      "outputs": [
        {
          "output_type": "stream",
          "name": "stdout",
          "text": [
            "Test Image:\n"
          ]
        },
        {
          "output_type": "display_data",
          "data": {
            "text/plain": [
              "<Figure size 640x480 with 1 Axes>"
            ],
            "image/png": "[encoded data removed]"
          },
          "metadata": {}
        },
        {
          "output_type": "stream",
          "name": "stdout",
          "text": [
            "1/1 [==============================] - 0s 19ms/step\n",
            "Prediction: cat with probability 99.89%\n"
          ]
        }
      ]
    },
    {
      "cell_type": "code",
      "source": [
        "info.features['label'].names"
      ],
      "metadata": {
        "colab": {
          "base_uri": "https://localhost:8080/"
        },
        "id": "TB3YK_HfSgj9",
        "outputId": "352ed84b-672b-4bb9-b96c-ac5f31f3f443"
      },
      "execution_count": null,
      "outputs": [
        {
          "output_type": "execute_result",
          "data": {
            "text/plain": [
              "['airplane',\n",
              " 'automobile',\n",
              " 'bird',\n",
              " 'cat',\n",
              " 'deer',\n",
              " 'dog',\n",
              " 'frog',\n",
              " 'horse',\n",
              " 'ship',\n",
              " 'truck']"
            ]
          },
          "metadata": {},
          "execution_count": 59
        }
      ]
    }
  ]
}